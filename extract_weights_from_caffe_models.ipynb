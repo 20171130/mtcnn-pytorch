{
 "cells": [
  {
   "cell_type": "code",
   "execution_count": 1,
   "metadata": {
    "collapsed": true
   },
   "outputs": [],
   "source": [
    "import caffe\n",
    "import numpy as np"
   ]
  },
  {
   "cell_type": "code",
   "execution_count": 2,
   "metadata": {
    "collapsed": true
   },
   "outputs": [],
   "source": [
    "def get_all_weights(net):\n",
    "    all_weights = {}\n",
    "    for p in net.params:\n",
    "        if 'conv' in p:\n",
    "            name = 'features.' + p\n",
    "            if '-' in p:\n",
    "                s = list(p)\n",
    "                s[-2] = '_'\n",
    "                s = ''.join(s)\n",
    "                all_weights[s + '.weight'] = net.params[p][0].data\n",
    "                all_weights[s + '.bias'] = net.params[p][1].data\n",
    "            elif len(net.params[p][0].data.shape) == 4:\n",
    "                all_weights[name + '.weight'] = net.params[p][0].data.transpose((0, 1, 3, 2))\n",
    "                all_weights[name + '.bias'] = net.params[p][1].data\n",
    "            else:\n",
    "                all_weights[name + '.weight'] = net.params[p][0].data\n",
    "                all_weights[name + '.bias'] = net.params[p][1].data\n",
    "        elif 'prelu' in p.lower():\n",
    "            all_weights['features.' + p.lower() + '.weight'] = net.params[p][0].data\n",
    "    return all_weights"
   ]
  },
  {
   "cell_type": "markdown",
   "metadata": {},
   "source": [
    "# P-Net"
   ]
  },
  {
   "cell_type": "code",
   "execution_count": 3,
   "metadata": {},
   "outputs": [
    {
     "data": {
      "text/plain": [
       "OrderedDict([('conv1', <caffe._caffe.BlobVec at 0x7f67ac675ad0>),\n",
       "             ('PReLU1', <caffe._caffe.BlobVec at 0x7f67ac675940>),\n",
       "             ('conv2', <caffe._caffe.BlobVec at 0x7f67ac675c10>),\n",
       "             ('PReLU2', <caffe._caffe.BlobVec at 0x7f67ac6753f0>),\n",
       "             ('conv3', <caffe._caffe.BlobVec at 0x7f67ac6753a0>),\n",
       "             ('PReLU3', <caffe._caffe.BlobVec at 0x7f67ac675260>),\n",
       "             ('conv4-1', <caffe._caffe.BlobVec at 0x7f67ac6751c0>),\n",
       "             ('conv4-2', <caffe._caffe.BlobVec at 0x7f67ac675080>)])"
      ]
     },
     "execution_count": 3,
     "metadata": {},
     "output_type": "execute_result"
    }
   ],
   "source": [
    "net = caffe.Net('caffe_models/det1.prototxt', 'caffe_models/det1.caffemodel', caffe.TEST)\n",
    "net.params"
   ]
  },
  {
   "cell_type": "code",
   "execution_count": 4,
   "metadata": {
    "collapsed": true
   },
   "outputs": [],
   "source": [
    "np.save('nets/pnet.npy', get_all_weights(net))"
   ]
  },
  {
   "cell_type": "markdown",
   "metadata": {},
   "source": [
    "# R-Net"
   ]
  },
  {
   "cell_type": "code",
   "execution_count": 5,
   "metadata": {},
   "outputs": [
    {
     "data": {
      "text/plain": [
       "OrderedDict([('conv1', <caffe._caffe.BlobVec at 0x7f67ac60c3a0>),\n",
       "             ('prelu1', <caffe._caffe.BlobVec at 0x7f67ac60c300>),\n",
       "             ('conv2', <caffe._caffe.BlobVec at 0x7f67ac60c260>),\n",
       "             ('prelu2', <caffe._caffe.BlobVec at 0x7f67ac60c1c0>),\n",
       "             ('conv3', <caffe._caffe.BlobVec at 0x7f67ac60c120>),\n",
       "             ('prelu3', <caffe._caffe.BlobVec at 0x7f67ac60c530>),\n",
       "             ('conv4', <caffe._caffe.BlobVec at 0x7f67ac60c580>),\n",
       "             ('prelu4', <caffe._caffe.BlobVec at 0x7f67ac60c6c0>),\n",
       "             ('conv5-1', <caffe._caffe.BlobVec at 0x7f67ac60c760>),\n",
       "             ('conv5-2', <caffe._caffe.BlobVec at 0x7f67ac60c800>)])"
      ]
     },
     "execution_count": 5,
     "metadata": {},
     "output_type": "execute_result"
    }
   ],
   "source": [
    "net = caffe.Net('caffe_models/det2.prototxt', 'caffe_models/det2.caffemodel', caffe.TEST)\n",
    "net.params"
   ]
  },
  {
   "cell_type": "code",
   "execution_count": 6,
   "metadata": {
    "collapsed": true
   },
   "outputs": [],
   "source": [
    "np.save('nets/rnet.npy', get_all_weights(net))"
   ]
  },
  {
   "cell_type": "markdown",
   "metadata": {},
   "source": [
    "# O-Net"
   ]
  },
  {
   "cell_type": "code",
   "execution_count": 7,
   "metadata": {},
   "outputs": [
    {
     "data": {
      "text/plain": [
       "OrderedDict([('conv1', <caffe._caffe.BlobVec at 0x7f67ac60cbc0>),\n",
       "             ('prelu1', <caffe._caffe.BlobVec at 0x7f67ac60cb20>),\n",
       "             ('conv2', <caffe._caffe.BlobVec at 0x7f67ac60ca80>),\n",
       "             ('prelu2', <caffe._caffe.BlobVec at 0x7f67ac60c9e0>),\n",
       "             ('conv3', <caffe._caffe.BlobVec at 0x7f67ac60c940>),\n",
       "             ('prelu3', <caffe._caffe.BlobVec at 0x7f67ac60c8a0>),\n",
       "             ('conv4', <caffe._caffe.BlobVec at 0x7f67ac60c3f0>),\n",
       "             ('prelu4', <caffe._caffe.BlobVec at 0x7f67ac60cdf0>),\n",
       "             ('conv5', <caffe._caffe.BlobVec at 0x7f67ac60ce90>),\n",
       "             ('prelu5', <caffe._caffe.BlobVec at 0x7f67ac60cf30>),\n",
       "             ('conv6-1', <caffe._caffe.BlobVec at 0x7f67ac60e030>),\n",
       "             ('conv6-2', <caffe._caffe.BlobVec at 0x7f67ac60e0d0>),\n",
       "             ('conv6-3', <caffe._caffe.BlobVec at 0x7f67ac60e170>)])"
      ]
     },
     "execution_count": 7,
     "metadata": {},
     "output_type": "execute_result"
    }
   ],
   "source": [
    "net = caffe.Net('caffe_models/det3.prototxt', 'caffe_models/det3.caffemodel', caffe.TEST)\n",
    "net.params"
   ]
  },
  {
   "cell_type": "code",
   "execution_count": 8,
   "metadata": {
    "collapsed": true
   },
   "outputs": [],
   "source": [
    "np.save('nets/onet.npy', get_all_weights(net))"
   ]
  }
 ],
 "metadata": {
  "kernelspec": {
   "display_name": "Python 3",
   "language": "python",
   "name": "python3"
  },
  "language_info": {
   "codemirror_mode": {
    "name": "ipython",
    "version": 3
   },
   "file_extension": ".py",
   "mimetype": "text/x-python",
   "name": "python",
   "nbconvert_exporter": "python",
   "pygments_lexer": "ipython3",
   "version": "3.6.1"
  }
 },
 "nbformat": 4,
 "nbformat_minor": 2
}
